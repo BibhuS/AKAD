{
 "cells": [
  {
   "cell_type": "markdown",
   "metadata": {},
   "source": [
    "# Task 1:"
   ]
  },
  {
   "cell_type": "markdown",
   "metadata": {},
   "source": [
    "# 1.1\n",
    "Write a Python Program to implement your own myreduce() function which works exactly like Python's built-in function reduce()"
   ]
  },
  {
   "cell_type": "code",
   "execution_count": 1,
   "metadata": {},
   "outputs": [
    {
     "name": "stdout",
     "output_type": "stream",
     "text": [
      "The custom reduce function result is :14\n"
     ]
    }
   ],
   "source": [
    "def myreduce(Add):\n",
    "    res = 0\n",
    "    for a in Add[::]:\n",
    "        res = res + a\n",
    "    return res\n",
    "\n",
    "\n",
    "result = str(myreduce((1,2,3,4,4)))\n",
    "print(\"The custom reduce function result is :\"+result)\n",
    "\n"
   ]
  },
  {
   "cell_type": "markdown",
   "metadata": {},
   "source": [
    "# 1.2\n",
    "Write a Python program to implement your own myfilter() function which works exactly like Python's built-in function filter()"
   ]
  },
  {
   "cell_type": "code",
   "execution_count": 2,
   "metadata": {},
   "outputs": [
    {
     "name": "stdout",
     "output_type": "stream",
     "text": [
      "The custom filter function result is :[0, 8, 4]\n"
     ]
    }
   ],
   "source": [
    "def myfilter(even_no):\n",
    "    res = []\n",
    "    for item in even_no:\n",
    "        if item%2== 0:\n",
    "            res.append(item)\n",
    "    return res\n",
    "\n",
    "res =str(myfilter([0,8,11,3,4,5]))\n",
    "print(\"The custom filter function result is :\"+res)\n",
    "    \n"
   ]
  },
  {
   "cell_type": "markdown",
   "metadata": {},
   "source": [
    "# 2\n",
    "Implement List comprehensions to produce the following lists.Write List comprehensions to produce the following Lists\n"
   ]
  },
  {
   "cell_type": "code",
   "execution_count": 3,
   "metadata": {},
   "outputs": [
    {
     "name": "stdout",
     "output_type": "stream",
     "text": [
      "['A', 'C', 'A', 'D', 'G', 'I', 'L', 'D']\n"
     ]
    }
   ],
   "source": [
    "#Output:-['A', 'C', 'A', 'D', 'G', 'I', ’L’, ‘ D’]\n",
    "\n",
    "a = \"ACADGILD\"\n",
    "\n",
    "c_sep = [b for b in a ]\n",
    "\n",
    "print(c_sep)"
   ]
  },
  {
   "cell_type": "code",
   "execution_count": 4,
   "metadata": {},
   "outputs": [
    {
     "name": "stdout",
     "output_type": "stream",
     "text": [
      "['x', 'xx', 'xxx', 'xxxx', 'y', 'yy', 'yyy', 'yyyy', 'z', 'zz', 'zzz', 'zzzz']\n"
     ]
    }
   ],
   "source": [
    "#Output:- ['x', 'xx', 'xxx', 'xxxx', 'y', 'yy', 'yyy', 'yyyy', 'z', 'zz', 'zzz', 'zzzz']\n",
    "\n",
    "p = ['x','y','z']\n",
    "\n",
    "x_y_z = [ item*q for item in p for q in range(1,5)]\n",
    "\n",
    "print(x_y_z)\n",
    "        "
   ]
  },
  {
   "cell_type": "code",
   "execution_count": 5,
   "metadata": {},
   "outputs": [
    {
     "name": "stdout",
     "output_type": "stream",
     "text": [
      "['x', 'y', 'z', 'xx', 'yy', 'zz', 'xxx', 'yyy', 'zzz', 'xxxx', 'yyyy', 'zzzz']\n"
     ]
    }
   ],
   "source": [
    "#Output:- ['x', 'y', 'z', 'xx', 'yy', 'zz', 'xx', 'yy', 'zz', 'xxxx', 'yyyy', 'zzzz']\n",
    "\n",
    "p = ['x','y','z']\n",
    "\n",
    "third = [ m * r for r in range(1,5) for m in p ]\n",
    "\n",
    "print(third)\n"
   ]
  },
  {
   "cell_type": "code",
   "execution_count": 6,
   "metadata": {},
   "outputs": [
    {
     "name": "stdout",
     "output_type": "stream",
     "text": [
      "[[2], [3], [4], [3], [4], [5], [4], [5], [6]]\n"
     ]
    }
   ],
   "source": [
    "#Output:- [[2], [3], [4], [3], [4], [5], [4], [5], [6]]\n",
    "\n",
    "List = [2,3,4]\n",
    "\n",
    "res = [ [item+num] for item in List for num in range(0,3)]\n",
    "\n",
    "print(res)"
   ]
  },
  {
   "cell_type": "code",
   "execution_count": 7,
   "metadata": {},
   "outputs": [
    {
     "name": "stdout",
     "output_type": "stream",
     "text": [
      "[[2, 3, 4, 5], [3, 4, 5, 6], [4, 5, 6, 7], [5, 6, 7, 8]]\n"
     ]
    }
   ],
   "source": [
    "#Output:-[[2, 3, 4, 5], [3, 4, 5, 6], [4, 5, 6, 7], [5, 6, 7, 8]]\n",
    "\n",
    "K = [2,3,4,5]\n",
    "\n",
    "fourth = [[item+num for item in K] for num in range(0,4)]\n",
    "\n",
    "print(fourth)"
   ]
  },
  {
   "cell_type": "code",
   "execution_count": 8,
   "metadata": {},
   "outputs": [
    {
     "name": "stdout",
     "output_type": "stream",
     "text": [
      "[(1, 1), (2, 1), (3, 1), (1, 2), (2, 2), (3, 2), (1, 3), (2, 3), (3, 3)]\n"
     ]
    }
   ],
   "source": [
    "#Output:-[(1, 1), (2, 1), (3, 1), (1, 2), (2, 2), (3, 2), (1, 3), (2, 3), (3, 3)]\n",
    "\n",
    "P=[1,2,3]\n",
    "\n",
    "fifth = [(b,a) for a in P for b in P]\n",
    "\n",
    "print(fifth)"
   ]
  },
  {
   "cell_type": "markdown",
   "metadata": {},
   "source": [
    "# Task 2:"
   ]
  },
  {
   "cell_type": "markdown",
   "metadata": {},
   "source": [
    "# 1.1\n",
    "Write a Python Program(with class concepts) to find the area of the triangle using the below formula.\n",
    "area = (s*(s-a)*(s-b)*(s-c)) ** 0.5\n",
    "Function to take the length of the sides of triangle from user should be defined in the parent\n",
    "class and function to calculate the area should be defined in subclass."
   ]
  },
  {
   "cell_type": "code",
   "execution_count": 23,
   "metadata": {},
   "outputs": [
    {
     "name": "stdout",
     "output_type": "stream",
     "text": [
      "Enter side 1 : 10\n",
      "Enter side 2 : 10\n",
      "Enter side 3 : 10\n",
      "43.30127018922193\n"
     ]
    }
   ],
   "source": [
    "class len_tri():\n",
    "    def __init__(self):\n",
    "        pass\n",
    "    def input_sides(self):\n",
    "\n",
    "        self.sides = [float(input(\"Enter side \" + str(i + 1) + \" : \")) for i in range(3)]\n",
    "\n",
    "\n",
    "class Area(len_tri):\n",
    "\n",
    "    def __init__(self):\n",
    "        len_tri.__init__(self)\n",
    "\n",
    "    def ar(self):\n",
    "        a, b, c = self.sides\n",
    "        s = (a + b + c) / 2\n",
    "        area = (s * (s - a) * (s - b) * (s - c)) ** 0.5\n",
    "        print(area)\n",
    "\n",
    "\n",
    "D = Area()\n",
    "D.input_sides()\n",
    "D.ar()\n",
    "\n",
    "              "
   ]
  },
  {
   "cell_type": "markdown",
   "metadata": {},
   "source": [
    "### 1.2\n",
    "Write a function filter_long_words() that takes a list of words and an integer n and returns the list of words that are longer than n."
   ]
  },
  {
   "cell_type": "code",
   "execution_count": 11,
   "metadata": {},
   "outputs": [
    {
     "name": "stdout",
     "output_type": "stream",
     "text": [
      "Enter what length of string to return among multiple strings7\n",
      "List of words greater than 7 are :['Sudhanshu', 'Salim Bhai']\n"
     ]
    }
   ],
   "source": [
    "def filter_long_words(str,n):\n",
    "    b =[]\n",
    "    for i in str:\n",
    "        if len(i)>n:\n",
    "            b.append(i)\n",
    "    return b    \n",
    "            \n",
    "\n",
    "mul_string = [\"Bibhu\",\"Sinha\",\"Sudhanshu\",\"Shekhar\",\"Adil\",\"Salim Bhai\"]\n",
    "n = int(input(\"Enter what length of string to return among multiple strings\"))\n",
    "\n",
    "res = filter_long_words(mul_string,n)\n",
    "print(\"List of words greater than \"+str(n)+\" \"+ \"are :\" + str(res))"
   ]
  },
  {
   "cell_type": "markdown",
   "metadata": {},
   "source": [
    "# 2.1\n",
    "Write a Python program using function concept that maps list of words into a list of integers\n",
    "representing the lengths of the corresponding words .\n",
    "Hint: If a list [ ab,cde,erty] is passed on to the python function output should come as [2,3,4]\n",
    "Here 2,3 and 4 are the lengths of the words in the list."
   ]
  },
  {
   "cell_type": "code",
   "execution_count": 12,
   "metadata": {},
   "outputs": [
    {
     "name": "stdout",
     "output_type": "stream",
     "text": [
      "List of words:['Bibhu', 'Raj', 'Suresh', 'Mukesh', 'Jitendra', 'Dharmendra']\n",
      "List of wordlength:[5, 3, 6, 6, 8, 10]\n"
     ]
    }
   ],
   "source": [
    "def map_len(words):\n",
    "    \n",
    "    LInt = []\n",
    "    for i in range(len(words)):\n",
    "        LInt.append(len(words[i]))\n",
    "        \n",
    "    return LInt\n",
    "\n",
    "Lwords = [\"Bibhu\",\"Raj\",\"Suresh\",\"Mukesh\",\"Jitendra\",\"Dharmendra\"]\n",
    "res = map_len(Lwords)\n",
    "\n",
    "print (\"List of words:\"+str(Lwords))    \n",
    "print (\"List of wordlength:\"+str(res))\n",
    "        \n",
    "    "
   ]
  },
  {
   "cell_type": "markdown",
   "metadata": {},
   "source": [
    "# 2.2\n",
    "Write a Python function which takes a character (i.e. a string of length 1) and returns True if it is\n",
    "a vowel, False otherwise."
   ]
  },
  {
   "cell_type": "code",
   "execution_count": 13,
   "metadata": {},
   "outputs": [
    {
     "name": "stdout",
     "output_type": "stream",
     "text": [
      "Enter any characterO\n"
     ]
    },
    {
     "data": {
      "text/plain": [
       "True"
      ]
     },
     "execution_count": 13,
     "metadata": {},
     "output_type": "execute_result"
    }
   ],
   "source": [
    "def check_vowel(str):\n",
    "    if len(str)== 1:\n",
    "        \n",
    "        if (str == \"a\" or str == \"A\" or str ==\"i\" or str ==\"I\" or str ==\"e\" or str ==\"E\" or str ==\"o\" or str ==\"O\" or str ==      \"u\" or str == \"U\"):\n",
    "            return True\n",
    "        else:\n",
    "            return False\n",
    "        \n",
    "    else:\n",
    "        print(str + \" is not character,System accepts character only !!\")\n",
    "        \n",
    "        \n",
    "\n",
    "p = input(\"Enter any character\")\n",
    "\n",
    "check_vowel(p)"
   ]
  }
 ],
 "metadata": {
  "kernelspec": {
   "display_name": "Python 3",
   "language": "python",
   "name": "python3"
  },
  "language_info": {
   "codemirror_mode": {
    "name": "ipython",
    "version": 3
   },
   "file_extension": ".py",
   "mimetype": "text/x-python",
   "name": "python",
   "nbconvert_exporter": "python",
   "pygments_lexer": "ipython3",
   "version": "3.7.3"
  }
 },
 "nbformat": 4,
 "nbformat_minor": 2
}
